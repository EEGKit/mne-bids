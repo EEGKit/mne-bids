{
  "cells": [
    {
      "cell_type": "code",
      "execution_count": null,
      "metadata": {
        "collapsed": false
      },
      "outputs": [],
      "source": [
        "%matplotlib inline"
      ]
    },
    {
      "cell_type": "markdown",
      "metadata": {},
      "source": [
        "\n# 13. Writing modified files with MNE-BIDS\n\nMNE-BIDS is designed such that it enforces good practices when working with\nBIDS data. One of the principles of creating BIDS datasets from raw data is\nthat the raw data should ideally be written unmodified, as-is. To enforce\nthis, :func:`mne_bids.write_raw_bids` performs some basic checks and will\nthrow an exception if it believes you're doing something that you really\nshouldn't be doing (i.e., trying to store modified \"raw\" data as a BIDS\nraw data set.)\n\nThere might be some \u2013 rare! \u2013 situations, however, when working around this\nintentional limitation in MNE-BIDS can be warranted. For example, you might\nencounter data that has manually been split across multiple files during\nrecording, even though it belongs to a single experimental run. In this case,\nyou might want to concatenate the data before storing them in BIDS. This\ntutorial will give you an example on how to use :func:`mne_bids.write_raw_bids`\nto store such data, despite it being modified before writing.\n\n<div class=\"alert alert-danger\"><h4>Warning</h4><p>Please be aware that the situations in which you would need\n             to apply the following solution are **extremely** rare. If you\n             ever find yourself wanting to apply this solution, please take a\n             step back, take a deep breath and re-consider whether this is\n             **absolutely** necessary. If even a slight doubt remains,\n             reach out to the MNE-BIDS developers.</p></div>\n"
      ]
    },
    {
      "cell_type": "code",
      "execution_count": null,
      "metadata": {
        "collapsed": false
      },
      "outputs": [],
      "source": [
        "# Authors: Richard H\u00f6chenberger <richard.hoechenberger@gmail.com>\n# License: BSD (3-clause)"
      ]
    },
    {
      "cell_type": "markdown",
      "metadata": {},
      "source": [
        "Load the ``sample`` dataset, and create a concatenated raw data object.\n\n"
      ]
    },
    {
      "cell_type": "code",
      "execution_count": null,
      "metadata": {
        "collapsed": false
      },
      "outputs": [],
      "source": [
        "from pathlib import Path\nfrom tempfile import NamedTemporaryFile\n\nimport mne\nfrom mne.datasets import sample\n\nfrom mne_bids import write_raw_bids, BIDSPath\n\n\ndata_path = Path(sample.data_path())\nraw_fname = data_path / 'MEG' / 'sample' / 'sample_audvis_raw.fif'\noutput_path = data_path / '..' / 'MNE-sample-data-bids'\nbids_path = BIDSPath(subject='01', task='audiovisual', root=output_path)\n\nraw = mne.io.read_raw_fif(raw_fname)\nraw.info['line_freq'] = 60\nraw_concat = mne.concatenate_raws([raw.copy(), raw])"
      ]
    },
    {
      "cell_type": "markdown",
      "metadata": {},
      "source": [
        "Trying to write these data will fail.\n\n"
      ]
    },
    {
      "cell_type": "code",
      "execution_count": null,
      "metadata": {
        "collapsed": false
      },
      "outputs": [],
      "source": [
        "try:\n    write_raw_bids(raw=raw_concat, bids_path=bids_path, overwrite=True)\nexcept ValueError as e:\n    print(f'Data cannot be written. Exception message was: {e}')"
      ]
    },
    {
      "cell_type": "markdown",
      "metadata": {},
      "source": [
        "We can work around this limitation by first writing the modified data to\na temporary file, reading it back in, and then writing it via MNE-BIDS.\n\n"
      ]
    },
    {
      "cell_type": "code",
      "execution_count": null,
      "metadata": {
        "collapsed": false
      },
      "outputs": [],
      "source": [
        "with NamedTemporaryFile(suffix='_raw.fif') as f:\n    fname = f.name\n    raw_concat.save(fname, overwrite=True)\n    raw_concat = mne.io.read_raw_fif(fname, preload=False)\n    write_raw_bids(raw=raw_concat, bids_path=bids_path, overwrite=True)"
      ]
    },
    {
      "cell_type": "markdown",
      "metadata": {},
      "source": [
        "That's it!\n\n<div class=\"alert alert-danger\"><h4>Warning</h4><p>**Remember, this should only ever be a last resort!**</p></div>\n\n\n"
      ]
    }
  ],
  "metadata": {
    "kernelspec": {
      "display_name": "Python 3",
      "language": "python",
      "name": "python3"
    },
    "language_info": {
      "codemirror_mode": {
        "name": "ipython",
        "version": 3
      },
      "file_extension": ".py",
      "mimetype": "text/x-python",
      "name": "python",
      "nbconvert_exporter": "python",
      "pygments_lexer": "ipython3",
      "version": "3.8.8"
    }
  },
  "nbformat": 4,
  "nbformat_minor": 0
}