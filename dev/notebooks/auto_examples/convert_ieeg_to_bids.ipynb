{
  "cells": [
    {
      "cell_type": "code",
      "execution_count": null,
      "metadata": {
        "collapsed": false
      },
      "outputs": [],
      "source": [
        "%matplotlib inline"
      ]
    },
    {
      "cell_type": "markdown",
      "metadata": {},
      "source": [
        "\n.. currentmodule:: mne_bids\n\n# 08. Convert iEEG data to BIDS format\n\nIn this example, we use MNE-BIDS to create a BIDS-compatible directory of iEEG\ndata. Specifically, we will follow these steps:\n\n1. Download some iEEG data from the\n   `MNE-ECoG example <https://mne.tools/stable/auto_tutorials/misc/plot_ecog>`_.\n\n2. Load the data, extract information, and save in a new BIDS directory.\n\n3. Check the result and compare it with the standard.\n\n4. Cite MNE-BIDS\n\n5. Confirm that written iEEG coordinates are the\n   same before :func:`write_raw_bids` was called.\n\nThe iEEG data will be written by :func:`write_raw_bids` with\nthe addition of extra metadata elements in the following files:\n\n- the sidecar file ``ieeg.json``\n- ``electrodes.tsv``\n- ``coordsystem.json``\n- ``events.tsv``\n- ``channels.tsv``\n\nCompared to EEG data, the main differences are within the\n``coordsystem.json`` and ``electrodes.tsv`` files.\nFor more information on these files,\nrefer to the `iEEG part of the BIDS specification`_.\n\n"
      ]
    },
    {
      "cell_type": "code",
      "execution_count": null,
      "metadata": {
        "collapsed": false
      },
      "outputs": [],
      "source": [
        "# Authors: Adam Li <adam2392@gmail.com>\n#          Stefan Appelhoff <stefan.appelhoff@mailbox.org>\n#\n# License: BSD (3-clause)\n\nimport os.path as op\nimport shutil\nfrom pprint import pprint\n\nimport numpy as np\n\nimport mne\nfrom mne_bids import (write_raw_bids, BIDSPath,\n                      read_raw_bids, print_dir_tree)"
      ]
    },
    {
      "cell_type": "markdown",
      "metadata": {},
      "source": [
        "## Step 1: Download the data\n\nFirst, we need some data to work with. We will use the\ndata downloaded via MNE-Python's ``datasets`` API:\n:func:`mne.datasets.misc.data_path`\n\n"
      ]
    },
    {
      "cell_type": "code",
      "execution_count": null,
      "metadata": {
        "collapsed": false
      },
      "outputs": [],
      "source": [
        "misc_path = mne.datasets.misc.data_path(force_update=True)\n\n# The electrode coords data are in the tsv file format\n# which is easily read in using numpy\nfname = misc_path + '/ecog/sample_ecog_electrodes.tsv'\ndata = np.loadtxt(fname, dtype=str, delimiter='\\t',\n                  comments=None, encoding='utf-8')\ncolumn_names = data[0, :]\ninfo = data[1:, :]\nelectrode_tsv = dict()\nfor i, name in enumerate(column_names):\n    electrode_tsv[name] = info[:, i].tolist()\n\n# load in channel names\nch_names = electrode_tsv['name']\n\n# load in the xyz coordinates as a float\nelec = np.empty(shape=(len(ch_names), 3))\nfor ind, axis in enumerate(['x', 'y', 'z']):\n    elec[:, ind] = list(map(float, electrode_tsv[axis]))"
      ]
    },
    {
      "cell_type": "markdown",
      "metadata": {},
      "source": [
        "Now we make a montage stating that the iEEG contacts are in the MNI\ncoordinate system, which corresponds to the `fsaverage` subject in\nFreeSurfer. For example, one can look at how MNE-Python deals with iEEG data\nat `Working with SEEG\n<https://mne.tools/stable/auto_tutorials/misc/plot_seeg.html>`_.\n\n"
      ]
    },
    {
      "cell_type": "code",
      "execution_count": null,
      "metadata": {
        "collapsed": false
      },
      "outputs": [],
      "source": [
        "montage = mne.channels.make_dig_montage(ch_pos=dict(zip(ch_names, elec)),\n                                        coord_frame='mni_tal')\nprint(f'Created {len(ch_names)} channel positions')\nprint(dict(zip(ch_names, elec)))"
      ]
    },
    {
      "cell_type": "markdown",
      "metadata": {},
      "source": [
        "We will load a :class:`mne.io.Raw` object and\nuse the montage we created.\n\n"
      ]
    },
    {
      "cell_type": "code",
      "execution_count": null,
      "metadata": {
        "collapsed": false
      },
      "outputs": [],
      "source": [
        "info = mne.create_info(ch_names, 1000., 'ecog')\nraw = mne.io.read_raw_edf(misc_path + '/ecog/sample_ecog.edf')\nraw.info['line_freq'] = 60  # specify power line frequency as required by BIDS\nraw.set_channel_types({ch: 'ecog' for ch in raw.ch_names})\n\n# set the bad channels\nraw.info['bads'].extend(['BTM1', 'BTM2', 'BTM3', 'BTM4', 'BTM5', 'BTM6',\n                         'BTP1', 'BTP2', 'BTP3', 'BTP4', 'BTP5', 'BTP6',\n                         'EKGL', 'EKGR'])\n\n# set montage\n# (note that this only works for some channel types: EEG/sEEG/ECoG/DBS/fNIRS)\nraw.set_montage(montage, on_missing='warn')"
      ]
    },
    {
      "cell_type": "markdown",
      "metadata": {},
      "source": [
        "Let us confirm what our channel coordinates look like.\n\n"
      ]
    },
    {
      "cell_type": "code",
      "execution_count": null,
      "metadata": {
        "collapsed": false
      },
      "outputs": [],
      "source": [
        "# make a plot of the sensors in 2D plane\nraw.plot_sensors(ch_type='ecog')\n\n# Get the first 5 channels and show their locations.\npicks = mne.pick_types(raw.info, ecog=True)\ndig = [raw.info['dig'][pick] for pick in picks]\nchs = [raw.info['chs'][pick] for pick in picks]\npos = np.array([ch['r'] for ch in dig[:5]])\nch_names = np.array([ch['ch_name'] for ch in chs[:5]])\nprint(\"The channel coordinates before writing into BIDS: \")\npprint([x for x in zip(ch_names, pos)])"
      ]
    },
    {
      "cell_type": "markdown",
      "metadata": {},
      "source": [
        "## BIDS vs MNE-Python Coordinate Systems\n\nBIDS has many acceptable coordinate systems for iEEG, which can be viewed in\n`appendix VIII`_ of the BIDS specification.\nHowever, MNE-BIDS depends on MNE-Python and MNE-Python does not support all\nthese coordinate systems (yet).\n\nMNE-Python has a few tutorials on this topic:\n\n- `background on FreeSurfer`_\n- `MNE-Python coordinate frames`_\n\nCurrently, MNE-Python supports the ``mni_tal`` coordinate frame, which\ncorresponds to the ``fsaverage`` BIDS coordinate system. All other coordinate\nframes in MNE-Python if written with :func:`mne_bids.write_raw_bids` are\nwritten with coordinate system ``'Other'``. Note, then we suggest using\n:func:`mne_bids.update_sidecar_json` to update the sidecar\n``*_coordsystem.json`` file to add additional information.\n\n## Step 2: Formatting as BIDS\n\nNow, let us format the `Raw` object into BIDS.\n\nWith this step, we have everything to start a new BIDS directory using\nour data. To do that, we can use :func:`write_raw_bids`\nGenerally, :func:`write_raw_bids` tries to extract as much\nmeta data as possible from the raw data and then formats it in a BIDS\ncompatible way. :func:`write_raw_bids` takes a bunch of inputs, most of\nwhich are however optional. The required inputs are:\n\n- :code:`raw`\n- :code:`bids_basename`\n- :code:`bids_root`\n\n... as you can see in the docstring:\n\n"
      ]
    },
    {
      "cell_type": "code",
      "execution_count": null,
      "metadata": {
        "collapsed": false
      },
      "outputs": [],
      "source": [
        "print(write_raw_bids.__doc__)"
      ]
    },
    {
      "cell_type": "markdown",
      "metadata": {},
      "source": [
        "Let us initialize some of the necessary data for the subject.\n\n"
      ]
    },
    {
      "cell_type": "code",
      "execution_count": null,
      "metadata": {
        "collapsed": false
      },
      "outputs": [],
      "source": [
        "# There is a subject, and specific task for the dataset.\nsubject_id = '001'  # zero padding to account for >100 subjects in this dataset\ntask = 'testresteyes'\n\n# get MNE-Python directory w/ example data\nmne_data_dir = mne.get_config('MNE_DATASETS_MISC_PATH')\n\n# There is the root directory for where we will write our data.\nbids_root = op.join(mne_data_dir, 'ieegmmidb_bids')"
      ]
    },
    {
      "cell_type": "markdown",
      "metadata": {},
      "source": [
        "To ensure the output path doesn't contain any leftover files from previous\ntests and example runs, we simply delete it.\n\n<div class=\"alert alert-danger\"><h4>Warning</h4><p>Do not delete directories that may contain important data!</p></div>\n\n\n"
      ]
    },
    {
      "cell_type": "code",
      "execution_count": null,
      "metadata": {
        "collapsed": false
      },
      "outputs": [],
      "source": [
        "if op.exists(bids_root):\n    shutil.rmtree(bids_root)"
      ]
    },
    {
      "cell_type": "markdown",
      "metadata": {},
      "source": [
        "Now we just need to specify a few iEEG details to make things work:\nWe need the basename of the dataset. In addition, :func:`write_raw_bids`\nrequires the ``.filenames`` attribute of the Raw object to be non-empty,\nso since we\ninitialized the dataset from an array, we need to do a hack where we\ntemporarily save the data to disc before reading it back in.\n\n"
      ]
    },
    {
      "cell_type": "code",
      "execution_count": null,
      "metadata": {
        "collapsed": false
      },
      "outputs": [],
      "source": [
        "# Now convert our data to be in a new BIDS dataset.\nbids_path = BIDSPath(subject=subject_id,\n                     task=task, acquisition=\"ecog\", root=bids_root)\n\n# write `raw` to BIDS and anonymize it into BrainVision format\nwrite_raw_bids(raw, bids_path, anonymize=dict(daysback=30000),\n               overwrite=True)"
      ]
    },
    {
      "cell_type": "markdown",
      "metadata": {},
      "source": [
        "## Step 3: Check and compare with standard\n\n"
      ]
    },
    {
      "cell_type": "code",
      "execution_count": null,
      "metadata": {
        "collapsed": false
      },
      "outputs": [],
      "source": [
        "# Now we have written our BIDS directory.\nprint_dir_tree(bids_root)"
      ]
    },
    {
      "cell_type": "markdown",
      "metadata": {},
      "source": [
        "## Step 4: Cite mne-bids\nWe can see that the appropriate citations are already written in the README.\nIf you are preparing a manuscript, please make sure to also cite MNE-BIDS\nthere.\n\n"
      ]
    },
    {
      "cell_type": "code",
      "execution_count": null,
      "metadata": {
        "collapsed": false
      },
      "outputs": [],
      "source": [
        "readme = op.join(bids_root, 'README')\nwith open(readme, 'r', encoding='utf-8-sig') as fid:\n    text = fid.read()\nprint(text)"
      ]
    },
    {
      "cell_type": "markdown",
      "metadata": {},
      "source": [
        "MNE-BIDS has created a suitable directory structure for us, and among other\nmeta data files, it started an ``events.tsv``` and ``channels.tsv`` file,\nand created an initial ``dataset_description.json`` file on top!\n\nNow it's time to manually check the BIDS directory and the meta files to add\nall the information that MNE-BIDS could not infer. For instance, you must\ndescribe ``iEEGReference`` and ``iEEGGround`` yourself.\nIt's easy to find these by searching for ``\"n/a\"`` in the sidecar files.\n\n``$ grep -i 'n/a' <bids_root>```\n\nRemember that there is a convenient JavaScript tool to validate all your BIDS\ndirectories called the \"BIDS-validator\", available as a web version and a\ncommand line tool:\n\nWeb version: https://bids-standard.github.io/bids-validator/\n\nCommand line tool: https://www.npmjs.com/package/bids-validator\n\n"
      ]
    },
    {
      "cell_type": "markdown",
      "metadata": {},
      "source": [
        "## Step 5: Plot output channels and check that they match!\n\nNow we have written our BIDS directory. We can use\n:func:`read_raw_bids` to read in the data.\n\n"
      ]
    },
    {
      "cell_type": "code",
      "execution_count": null,
      "metadata": {
        "collapsed": false
      },
      "outputs": [],
      "source": [
        "# read in the BIDS dataset and plot the coordinates\nraw = read_raw_bids(bids_path=bids_path)\n\n# get the first 5 channels and show their locations\n# this should match what was printed earlier.\npicks = mne.pick_types(raw.info, ecog=True)\ndig = [raw.info['dig'][pick] for pick in picks]\nchs = [raw.info['chs'][pick] for pick in picks]\npos = np.array([ch['r'] for ch in dig[:5]])\nch_names = np.array([ch['ch_name'] for ch in chs[:5]])\n\nprint(\"The channel montage after writing into BIDS: \")\npprint(dig[0:5])\nprint(\"The channel coordinates after writing into BIDS: \")\npprint([x for x in zip(ch_names, pos)])\n\n# make a plot of the sensors in 2D plane\nraw.plot_sensors(ch_type='ecog')"
      ]
    }
  ],
  "metadata": {
    "kernelspec": {
      "display_name": "Python 3",
      "language": "python",
      "name": "python3"
    },
    "language_info": {
      "codemirror_mode": {
        "name": "ipython",
        "version": 3
      },
      "file_extension": ".py",
      "mimetype": "text/x-python",
      "name": "python",
      "nbconvert_exporter": "python",
      "pygments_lexer": "ipython3",
      "version": "3.8.11"
    }
  },
  "nbformat": 4,
  "nbformat_minor": 0
}